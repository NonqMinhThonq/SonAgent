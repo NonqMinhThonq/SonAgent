{
 "cells": [
  {
   "cell_type": "code",
   "execution_count": 1,
   "metadata": {},
   "outputs": [
    {
     "name": "stdout",
     "output_type": "stream",
     "text": [
      "The asyncio module is not an IPython extension.\n"
     ]
    }
   ],
   "source": [
    "%load_ext asyncio\n"
   ]
  },
  {
   "cell_type": "code",
   "execution_count": 13,
   "metadata": {},
   "outputs": [],
   "source": [
    "from semantic_kernel.connectors.ai.open_ai import AzureChatCompletion\n",
    "\n",
    "deployment, api_key, endpoint = sk.azure_openai_settings_from_dot_env()"
   ]
  },
  {
   "cell_type": "code",
   "execution_count": 14,
   "metadata": {},
   "outputs": [],
   "source": [
    "\n",
    "kernel = sk.Kernel()"
   ]
  },
  {
   "cell_type": "code",
   "execution_count": 20,
   "metadata": {},
   "outputs": [
    {
     "data": {
      "text/plain": [
       "<semantic_kernel.kernel.Kernel at 0x116dcb590>"
      ]
     },
     "execution_count": 20,
     "metadata": {},
     "output_type": "execute_result"
    }
   ],
   "source": [
    "kernel.add_chat_service(\"chat_completion\", AzureChatCompletion(deployment, endpoint, api_key))"
   ]
  },
  {
   "cell_type": "code",
   "execution_count": 21,
   "metadata": {},
   "outputs": [],
   "source": [
    "import semantic_kernel as sk\n",
    "from sonagent.planning.planner import SonAgentPlanner"
   ]
  },
  {
   "cell_type": "code",
   "execution_count": 29,
   "metadata": {},
   "outputs": [],
   "source": [
    "async def main():\n",
    "    # kernel = sk.Kernel()\n",
    "    planner = SonAgentPlanner()\n",
    "    ask = \"create AI company?\"\n",
    "    plan =  await planner.create_plan_async(ask, kernel)\n",
    "    print(plan.generated_plan)\n",
    "    print(\"ok\")\n",
    "\n"
   ]
  },
  {
   "cell_type": "code",
   "execution_count": 30,
   "metadata": {},
   "outputs": [
    {
     "name": "stdout",
     "output_type": "stream",
     "text": [
      "{\n",
      "    \"input\": \"AI company\",\n",
      "    \"subtasks\": [\n",
      "        {\"function\": \"_GLOBAL_FUNCTIONS_.f_16bed5c1_906f_4208_a39b_038ee3a6d187\", \"args\": {\"available_functions\": [list of available functions], \"goal\": \"develop company mission and values\"}},\n",
      "        {\"function\": \"_GLOBAL_FUNCTIONS_.f_11164a1f_46d9_4f51_a95a_7bb37c6fba13\", \"args\": {\"available_functions\": [list of available functions], \"goal\": \"create a business plan\"}},\n",
      "        {\"function\": \"_GLOBAL_FUNCTIONS_.f_2826534a_1d37_492b_a2e0_0b8d41098b14\", \"args\": {\"available_functions\": [list of available functions], \"goal\": \"raise capital\"}},\n",
      "        {\"function\": \"_GLOBAL_FUNCTIONS_.f_943906c7_e357_4e43_adf4_fbabeadd59ce\", \"args\": {\"available_functions\": [list of available functions], \"goal\": \"build and launch product\"}}\n",
      "    ]\n",
      "}\n",
      "ok\n"
     ]
    }
   ],
   "source": [
    "await main()"
   ]
  }
 ],
 "metadata": {
  "kernelspec": {
   "display_name": "sonagent",
   "language": "python",
   "name": "python3"
  },
  "language_info": {
   "codemirror_mode": {
    "name": "ipython",
    "version": 3
   },
   "file_extension": ".py",
   "mimetype": "text/x-python",
   "name": "python",
   "nbconvert_exporter": "python",
   "pygments_lexer": "ipython3",
   "version": "3.12.0"
  }
 },
 "nbformat": 4,
 "nbformat_minor": 2
}
