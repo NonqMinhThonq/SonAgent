{
 "cells": [
  {
   "cell_type": "code",
   "execution_count": null,
   "metadata": {},
   "outputs": [],
   "source": []
  },
  {
   "cell_type": "code",
   "execution_count": 1,
   "metadata": {},
   "outputs": [],
   "source": [
    "import semantic_kernel as sk\n",
    "from semantic_kernel.connectors.ai.open_ai import (\n",
    "    OpenAIChatCompletion,\n",
    "    AzureChatCompletion,\n",
    ")\n",
    "\n",
    "kernel = sk.Kernel()\n",
    "\n",
    "useAzureOpenAI = True\n",
    "\n",
    "# Configure AI backend used by the kernel\n",
    "if useAzureOpenAI:\n",
    "    deployment, api_key, endpoint = sk.azure_openai_settings_from_dot_env()\n",
    "    kernel.add_chat_service(\n",
    "        \"chat_completion\",\n",
    "        AzureChatCompletion(deployment_name=deployment, endpoint=endpoint, api_key=api_key),\n",
    "    )\n",
    "else:\n",
    "    api_key, org_id = sk.openai_settings_from_dot_env()\n",
    "    kernel.add_chat_service(\n",
    "        \"gpt-4\",\n",
    "        OpenAIChatCompletion(ai_model_id=\"gpt-3.5-turbo-1106\", api_key=api_key, org_id=org_id),\n",
    "    )"
   ]
  },
  {
   "cell_type": "code",
   "execution_count": 7,
   "metadata": {},
   "outputs": [],
   "source": [
    "from semantic_kernel.planning import SequentialPlanner\n",
    "\n",
    "planner = SequentialPlanner(kernel)\n"
   ]
  },
  {
   "cell_type": "code",
   "execution_count": 8,
   "metadata": {},
   "outputs": [],
   "source": [
    "ask = \"\"\"\n",
    "Tomorrow is Valentine's day. I need to come up with a few date ideas after that we will have a dinner write email invite for diner. She speaks Vietnamese so write it in Vietnamese.\n",
    "Convert the text to uppercase\"\"\""
   ]
  },
  {
   "cell_type": "code",
   "execution_count": 9,
   "metadata": {},
   "outputs": [],
   "source": [
    "from semantic_kernel.core_skills import TextSkill\n",
    "\n",
    "\n",
    "plugins_directory = \"/Users/admin/Desktop/SonAgent/user_data_example/samples/skills/\"\n",
    "summarize_plugin = kernel.import_semantic_skill_from_directory(plugins_directory, \"SummarizeSkill\")\n",
    "writer_plugin = kernel.import_semantic_skill_from_directory(plugins_directory, \"WriterSkill\")\n"
   ]
  },
  {
   "cell_type": "code",
   "execution_count": 10,
   "metadata": {},
   "outputs": [],
   "source": [
    "text_plugin = kernel.import_skill(TextSkill(), \"TextSkill\")"
   ]
  },
  {
   "cell_type": "code",
   "execution_count": 11,
   "metadata": {},
   "outputs": [
    {
     "data": {
      "text/plain": [
       "{'lowercase': SKFunction(),\n",
       " 'trim': SKFunction(),\n",
       " 'trim_end': SKFunction(),\n",
       " 'trim_start': SKFunction(),\n",
       " 'uppercase': SKFunction()}"
      ]
     },
     "execution_count": 11,
     "metadata": {},
     "output_type": "execute_result"
    }
   ],
   "source": [
    "text_plugin"
   ]
  },
  {
   "cell_type": "code",
   "execution_count": 12,
   "metadata": {},
   "outputs": [],
   "source": [
    "sequential_plan = await planner.create_plan_async(goal=ask)\n"
   ]
  },
  {
   "cell_type": "code",
   "execution_count": 8,
   "metadata": {},
   "outputs": [],
   "source": [
    "list_step = sequential_plan._steps"
   ]
  },
  {
   "cell_type": "code",
   "execution_count": 9,
   "metadata": {},
   "outputs": [],
   "source": [
    "# print(list_step[0].invoke())"
   ]
  },
  {
   "cell_type": "code",
   "execution_count": 15,
   "metadata": {},
   "outputs": [
    {
     "name": "stdout",
     "output_type": "stream",
     "text": [
      "-------- step run ----- \n",
      "WriterSkill\n",
      "Given a goal or topic description generate a list of ideas : {'variables': {'input': ''}}\n",
      "-------- step run ----- \n",
      "TextSkill\n",
      "Trim whitespace from the start of a string. : {'variables': {'input': ''}}\n",
      "-------- step run ----- \n",
      "TextSkill\n",
      "Trim whitespace from the end of a string. : {'variables': {'input': ''}}\n",
      "-------- step run ----- \n",
      "TextSkill\n",
      "Trim whitespace from the end of a string. : {'variables': {'input': ''}}\n",
      "-------- step run ----- \n",
      "TextSkill\n",
      "Trim whitespace from the end of a string. : {'variables': {'input': ''}}\n",
      "-------- step run ----- \n",
      "TextSkill\n",
      "Trim whitespace from the start of a string. : {'variables': {'input': ''}}\n",
      "-------- step run ----- \n",
      "TextSkill\n",
      "Trim whitespace from the start of a string. : {'variables': {'input': ''}}\n",
      "-------- step run ----- \n",
      "TextSkill\n",
      "Trim whitespace from the start of a string. : {'variables': {'input': ''}}\n",
      "-------- step run ----- \n",
      "TextSkill\n",
      "Trim whitespace from the end of a string. : {'variables': {'input': ''}}\n",
      "-------- step run ----- \n",
      "TextSkill\n",
      "Trim whitespace from the end of a string. : {'variables': {'input': ''}}\n",
      "-------- step run ----- \n",
      "TextSkill\n",
      "Trim whitespace from the end of a string. : {'variables': {'input': ''}}\n",
      "-------- step run ----- \n",
      "WriterSkill\n",
      "Summarize given text in two sentences or less : {'variables': {'input': ''}}\n",
      "-------- step run ----- \n",
      "WriterSkill\n",
      "Given a goal or topic description generate a list of ideas : {'variables': {'input': ''}}\n",
      "-------- step run ----- \n",
      "TextSkill\n",
      "Trim whitespace from the start of a string. : {'variables': {'input': ''}}\n",
      "-------- step run ----- \n",
      "TextSkill\n",
      "Trim whitespace from the end of a string. : {'variables': {'input': ''}}\n",
      "-------- step run ----- \n",
      "WriterSkill\n",
      "Write an email from the given bullet points : {'variables': {'input': ''}}\n",
      "-------- step run ----- \n",
      "WriterSkill\n",
      "Translate the input into a language of your choice : {'variables': {'input': ''}}\n",
      "-------- step run ----- \n",
      "TextSkill\n",
      "Convert a string to uppercase. : {'variables': {'input': ''}}\n"
     ]
    }
   ],
   "source": [
    "for step in sequential_plan._steps:\n",
    "    print(\"-------- step run ----- \")\n",
    "    print(step.skill_name)\n",
    "    print(step.description, \":\", step._state.__dict__)\n",
    "    # a =  await step.invoke_async()\n",
    "    # print(a)"
   ]
  },
  {
   "cell_type": "code",
   "execution_count": 13,
   "metadata": {},
   "outputs": [],
   "source": [
    "result = await sequential_plan.invoke_async()\n"
   ]
  },
  {
   "cell_type": "code",
   "execution_count": 14,
   "metadata": {},
   "outputs": [
    {
     "name": "stdout",
     "output_type": "stream",
     "text": [
      "MƯỜI Ý TƯỞNG HẸN HÒ LÃNG MẠN ĐƯỢC LIỆT KÊ TRONG VĂN BẢN. CHÚNG BAO GỒM MỘT BỮA TỐI SANG TRỌNG, ĐÊM XEM PHIM, DÃ NGOẠI, NGÀY SPA, THỬ RƯỢU VANG, LỚP NẤU ĂN, TRƯỢT BĂNG, LEO NÚI XEM HOÀNG HÔN, THĂM VIỆN BẢO TÀNG VÀ LỚP NHẢY.\n"
     ]
    }
   ],
   "source": [
    "print(result)"
   ]
  },
  {
   "cell_type": "code",
   "execution_count": 16,
   "metadata": {},
   "outputs": [
    {
     "data": {
      "text/plain": [
       "ContextVariables(variables={'input': ''})"
      ]
     },
     "execution_count": 16,
     "metadata": {},
     "output_type": "execute_result"
    }
   ],
   "source": [
    "list_step[2].state"
   ]
  },
  {
   "cell_type": "code",
   "execution_count": 17,
   "metadata": {},
   "outputs": [
    {
     "data": {
      "text/plain": [
       "True"
      ]
     },
     "execution_count": 17,
     "metadata": {},
     "output_type": "execute_result"
    }
   ],
   "source": [
    "list_step[2].is_semantic"
   ]
  },
  {
   "cell_type": "code",
   "execution_count": 3,
   "metadata": {},
   "outputs": [],
   "source": [
    "input= \"chào em\""
   ]
  },
  {
   "cell_type": "code",
   "execution_count": 4,
   "metadata": {},
   "outputs": [],
   "source": [
    "semantic_function = kernel.create_semantic_function(input, max_tokens=2500, temperature=0.7, top_p=0.8)\n",
    "\n",
    "variables = sk.ContextVariables()\n",
    "result = await kernel.run_async(\n",
    "    semantic_function,\n",
    "    input_vars=variables,\n",
    ")\n"
   ]
  },
  {
   "cell_type": "code",
   "execution_count": 6,
   "metadata": {},
   "outputs": [
    {
     "name": "stdout",
     "output_type": "stream",
     "text": [
      "Chào anh/chị, em là trợ lý ảo của OpenAI. Em có thể giúp anh/chị với những gì ạ?\n"
     ]
    }
   ],
   "source": [
    "print(result)"
   ]
  },
  {
   "cell_type": "code",
   "execution_count": null,
   "metadata": {},
   "outputs": [],
   "source": []
  }
 ],
 "metadata": {
  "kernelspec": {
   "display_name": "sonagent",
   "language": "python",
   "name": "python3"
  },
  "language_info": {
   "codemirror_mode": {
    "name": "ipython",
    "version": 3
   },
   "file_extension": ".py",
   "mimetype": "text/x-python",
   "name": "python",
   "nbconvert_exporter": "python",
   "pygments_lexer": "ipython3",
   "version": "3.11.6"
  }
 },
 "nbformat": 4,
 "nbformat_minor": 2
}
